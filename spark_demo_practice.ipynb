{
 "cells": [
  {
   "cell_type": "code",
   "execution_count": 1,
   "id": "b7de9fc1",
   "metadata": {},
   "outputs": [
    {
     "data": {
      "application/vnd.jupyter.widget-view+json": {
       "model_id": "8f60bb7b0ad048548c4d3e2d8ad5663a",
       "version_major": 2,
       "version_minor": 0
      },
      "text/plain": [
       "VBox()"
      ]
     },
     "metadata": {},
     "output_type": "display_data"
    },
    {
     "name": "stdout",
     "output_type": "stream",
     "text": [
      "Starting Spark application\n"
     ]
    },
    {
     "data": {
      "text/html": [
       "<table>\n",
       "<tr><th>ID</th><th>YARN Application ID</th><th>Kind</th><th>State</th><th>Spark UI</th><th>Driver log</th><th>User</th><th>Current session?</th></tr><tr><td>0</td><td>application_1666188294423_0001</td><td>pyspark</td><td>idle</td><td><a target=\"_blank\" href=\"http://ip-172-31-26-71.ec2.internal:20888/proxy/application_1666188294423_0001/\" class=\"emr-proxy-link\" emr-resource=\"j-25UUTBWFJ4APF\n",
       "\" application-id=\"application_1666188294423_0001\">Link</a></td><td><a target=\"_blank\" href=\"http://ip-172-31-26-71.ec2.internal:8042/node/containerlogs/container_1666188294423_0001_01_000001/livy\" >Link</a></td><td>None</td><td>✔</td></tr></table>"
      ],
      "text/plain": [
       "<IPython.core.display.HTML object>"
      ]
     },
     "metadata": {},
     "output_type": "display_data"
    },
    {
     "data": {
      "application/vnd.jupyter.widget-view+json": {
       "model_id": "",
       "version_major": 2,
       "version_minor": 0
      },
      "text/plain": [
       "FloatProgress(value=0.0, bar_style='info', description='Progress:', layout=Layout(height='25px', width='50%'),…"
      ]
     },
     "metadata": {},
     "output_type": "display_data"
    },
    {
     "name": "stdout",
     "output_type": "stream",
     "text": [
      "SparkSession available as 'spark'.\n"
     ]
    },
    {
     "data": {
      "application/vnd.jupyter.widget-view+json": {
       "model_id": "",
       "version_major": 2,
       "version_minor": 0
      },
      "text/plain": [
       "FloatProgress(value=0.0, bar_style='info', description='Progress:', layout=Layout(height='25px', width='50%'),…"
      ]
     },
     "metadata": {},
     "output_type": "display_data"
    },
    {
     "name": "stdout",
     "output_type": "stream",
     "text": [
      "<pyspark.sql.session.SparkSession object at 0x7fe30e67a910>"
     ]
    }
   ],
   "source": [
    "spark"
   ]
  },
  {
   "cell_type": "code",
   "execution_count": 3,
   "id": "352c7ac3",
   "metadata": {},
   "outputs": [
    {
     "data": {
      "application/vnd.jupyter.widget-view+json": {
       "model_id": "85d1811eb05e4b4c953d44966dc78fef",
       "version_major": 2,
       "version_minor": 0
      },
      "text/plain": [
       "VBox()"
      ]
     },
     "metadata": {},
     "output_type": "display_data"
    },
    {
     "data": {
      "application/vnd.jupyter.widget-view+json": {
       "model_id": "",
       "version_major": 2,
       "version_minor": 0
      },
      "text/plain": [
       "FloatProgress(value=0.0, bar_style='info', description='Progress:', layout=Layout(height='25px', width='50%'),…"
      ]
     },
     "metadata": {},
     "output_type": "display_data"
    }
   ],
   "source": [
    "file1 = spark.read.csv(\"Police_Department_Incident_Reports__2018_to_Present.csv\", header = True, inferSchema = True)"
   ]
  },
  {
   "cell_type": "code",
   "execution_count": 4,
   "id": "4df097c6",
   "metadata": {},
   "outputs": [
    {
     "data": {
      "application/vnd.jupyter.widget-view+json": {
       "model_id": "ab60a5fd6a12430a8a20d103b5e12376",
       "version_major": 2,
       "version_minor": 0
      },
      "text/plain": [
       "VBox()"
      ]
     },
     "metadata": {},
     "output_type": "display_data"
    },
    {
     "data": {
      "application/vnd.jupyter.widget-view+json": {
       "model_id": "",
       "version_major": 2,
       "version_minor": 0
      },
      "text/plain": [
       "FloatProgress(value=0.0, bar_style='info', description='Progress:', layout=Layout(height='25px', width='50%'),…"
      ]
     },
     "metadata": {},
     "output_type": "display_data"
    }
   ],
   "source": [
    "from pyspark.sql.types import StructType, StructField, IntegerType, StringType, BooleanType, DoubleType, LongType"
   ]
  },
  {
   "cell_type": "code",
   "execution_count": 5,
   "id": "b6a32661",
   "metadata": {},
   "outputs": [
    {
     "data": {
      "application/vnd.jupyter.widget-view+json": {
       "model_id": "ecacd98cded3401fa2fada2abd726e87",
       "version_major": 2,
       "version_minor": 0
      },
      "text/plain": [
       "VBox()"
      ]
     },
     "metadata": {},
     "output_type": "display_data"
    },
    {
     "data": {
      "application/vnd.jupyter.widget-view+json": {
       "model_id": "",
       "version_major": 2,
       "version_minor": 0
      },
      "text/plain": [
       "FloatProgress(value=0.0, bar_style='info', description='Progress:', layout=Layout(height='25px', width='50%'),…"
      ]
     },
     "metadata": {},
     "output_type": "display_data"
    }
   ],
   "source": [
    "fileSchema = StructType([StructField('Incident_DateTime', StringType(),True),\n",
    "                        StructField('Incident_Date', StringType(),True),\n",
    "                        StructField('Incident_Time', StringType(),True),\n",
    "                        StructField('Incident_Year', IntegerType(),True),\n",
    "                        StructField('Incident_DayOfWeek', StringType(),True),\n",
    "                        StructField('Report_DateTime', StringType(),True),\n",
    "                        StructField('Row_Id', LongType(),True),\n",
    "                        StructField('Incident_Id', IntegerType(),True),\n",
    "                        StructField('Incident_Number', IntegerType(),True),\n",
    "                        StructField('Cad_Number', IntegerType(),True),\n",
    "                        StructField('Report_Type_Code', StringType(),True),\n",
    "                        StructField('Report_Type_Description', StringType(),True),\n",
    "                        StructField('File_Online', BooleanType(),True),\n",
    "                        StructField('Incident_Code', IntegerType(),True),\n",
    "                        StructField('Incident_Category', StringType(),True),\n",
    "                        StructField('Incident_Subcategory', StringType(),True),\n",
    "                        StructField('Incident_Description', StringType(),True), \n",
    "                        StructField('Resolution', StringType(),True),\n",
    "                        StructField('Intersection', StringType(),True),\n",
    "                        StructField('CNN', DoubleType(),True),\n",
    "                        StructField('Police_District', StringType(),True),\n",
    "                        StructField('Analysis_Neighbourhood', StringType(),True),\n",
    "                        StructField('Supervisor_District', IntegerType(),True),\n",
    "                        StructField('Latitude', DoubleType(),True), \n",
    "                        StructField('Longitide', DoubleType(),True),\n",
    "                        StructField('Point', StringType(),True), \n",
    "                        ])"
   ]
  },
  {
   "cell_type": "code",
   "execution_count": 6,
   "id": "4610eab1",
   "metadata": {},
   "outputs": [
    {
     "data": {
      "application/vnd.jupyter.widget-view+json": {
       "model_id": "ca9795ea7f33463db4bbfdfc4267a9fc",
       "version_major": 2,
       "version_minor": 0
      },
      "text/plain": [
       "VBox()"
      ]
     },
     "metadata": {},
     "output_type": "display_data"
    },
    {
     "data": {
      "application/vnd.jupyter.widget-view+json": {
       "model_id": "",
       "version_major": 2,
       "version_minor": 0
      },
      "text/plain": [
       "FloatProgress(value=0.0, bar_style='info', description='Progress:', layout=Layout(height='25px', width='50%'),…"
      ]
     },
     "metadata": {},
     "output_type": "display_data"
    }
   ],
   "source": [
    "file1 = spark.read.csv(\"Police_Department_Incident_Reports__2018_to_Present.csv\", header = True, schema = fileSchema)"
   ]
  },
  {
   "cell_type": "code",
   "execution_count": 7,
   "id": "dfc30ada",
   "metadata": {},
   "outputs": [
    {
     "data": {
      "application/vnd.jupyter.widget-view+json": {
       "model_id": "7bd279ab275942daa036f337627a0cb2",
       "version_major": 2,
       "version_minor": 0
      },
      "text/plain": [
       "VBox()"
      ]
     },
     "metadata": {},
     "output_type": "display_data"
    },
    {
     "data": {
      "application/vnd.jupyter.widget-view+json": {
       "model_id": "",
       "version_major": 2,
       "version_minor": 0
      },
      "text/plain": [
       "FloatProgress(value=0.0, bar_style='info', description='Progress:', layout=Layout(height='25px', width='50%'),…"
      ]
     },
     "metadata": {},
     "output_type": "display_data"
    },
    {
     "name": "stdout",
     "output_type": "stream",
     "text": [
      "root\n",
      " |-- Incident_DateTime: string (nullable = true)\n",
      " |-- Incident_Date: string (nullable = true)\n",
      " |-- Incident_Time: string (nullable = true)\n",
      " |-- Incident_Year: integer (nullable = true)\n",
      " |-- Incident_DayOfWeek: string (nullable = true)\n",
      " |-- Report_DateTime: string (nullable = true)\n",
      " |-- Row_Id: long (nullable = true)\n",
      " |-- Incident_Id: integer (nullable = true)\n",
      " |-- Incident_Number: integer (nullable = true)\n",
      " |-- Cad_Number: integer (nullable = true)\n",
      " |-- Report_Type_Code: string (nullable = true)\n",
      " |-- Report_Type_Description: string (nullable = true)\n",
      " |-- File_Online: boolean (nullable = true)\n",
      " |-- Incident_Code: integer (nullable = true)\n",
      " |-- Incident_Category: string (nullable = true)\n",
      " |-- Incident_Subcategory: string (nullable = true)\n",
      " |-- Incident_Description: string (nullable = true)\n",
      " |-- Resolution: string (nullable = true)\n",
      " |-- Intersection: string (nullable = true)\n",
      " |-- CNN: double (nullable = true)\n",
      " |-- Police_District: string (nullable = true)\n",
      " |-- Analysis_Neighbourhood: string (nullable = true)\n",
      " |-- Supervisor_District: integer (nullable = true)\n",
      " |-- Latitude: double (nullable = true)\n",
      " |-- Longitide: double (nullable = true)\n",
      " |-- Point: string (nullable = true)"
     ]
    }
   ],
   "source": [
    "file1.printSchema()"
   ]
  },
  {
   "cell_type": "code",
   "execution_count": 8,
   "id": "f8c2b139",
   "metadata": {},
   "outputs": [
    {
     "data": {
      "application/vnd.jupyter.widget-view+json": {
       "model_id": "22b59bb41761471c968b2bba4e260e73",
       "version_major": 2,
       "version_minor": 0
      },
      "text/plain": [
       "VBox()"
      ]
     },
     "metadata": {},
     "output_type": "display_data"
    },
    {
     "data": {
      "application/vnd.jupyter.widget-view+json": {
       "model_id": "",
       "version_major": 2,
       "version_minor": 0
      },
      "text/plain": [
       "FloatProgress(value=0.0, bar_style='info', description='Progress:', layout=Layout(height='25px', width='50%'),…"
      ]
     },
     "metadata": {},
     "output_type": "display_data"
    },
    {
     "name": "stdout",
     "output_type": "stream",
     "text": [
      "+--------------------+-------------+-------------+-------------+------------------+--------------------+-----------+-----------+---------------+----------+----------------+-----------------------+-----------+-------------+------------------+--------------------+--------------------+--------------+--------------------+--------+---------------+----------------------+-------------------+-----------------+-------------------+--------------------+\n",
      "|   Incident_DateTime|Incident_Date|Incident_Time|Incident_Year|Incident_DayOfWeek|     Report_DateTime|     Row_Id|Incident_Id|Incident_Number|Cad_Number|Report_Type_Code|Report_Type_Description|File_Online|Incident_Code| Incident_Category|Incident_Subcategory|Incident_Description|    Resolution|        Intersection|     CNN|Police_District|Analysis_Neighbourhood|Supervisor_District|         Latitude|          Longitide|               Point|\n",
      "+--------------------+-------------+-------------+-------------+------------------+--------------------+-----------+-----------+---------------+----------+----------------+-----------------------+-----------+-------------+------------------+--------------------+--------------------+--------------+--------------------+--------+---------------+----------------------+-------------------+-----------------+-------------------+--------------------+\n",
      "|2020/05/12 05:45:...|   2020/05/12|        17:45|         2020|           Tuesday|2020/05/13 09:46:...|92897328150|     928973|      206082743|      null|              II|       Coplogic Initial|       true|        28150|Malicious Mischief|           Vandalism|Malicious Mischie...|Open or Active|                null|    null|        Bayview|                  null|               null|             null|               null|                null|\n",
      "|2020/05/19 09:00:...|   2020/05/19|        21:00|         2020|           Tuesday|2020/05/20 05:43:...|92899306244|     928993|      206082709|      null|              II|       Coplogic Initial|       true|         6244|     Larceny Theft|Larceny - From Ve...|Theft, From Locke...|Open or Active|                null|    null|       Southern|                  null|               null|             null|               null|                null|\n",
      "|2020/05/16 06:00:...|   2020/05/16|        18:00|         2020|          Saturday|2020/05/16 10:26:...|92902428150|     929024|      206083296|      null|              II|       Coplogic Initial|       true|        28150|Malicious Mischief|           Vandalism|Malicious Mischie...|Open or Active|                null|    null|        Mission|                  null|               null|             null|               null|                null|\n",
      "|2020/03/30 12:00:...|   2020/03/30|        00:00|         2020|            Monday|2020/05/04 11:47:...|92905305073|     929053|      206062193|      null|              IS|    Coplogic Supplement|       true|         5073|          Burglary|    Burglary - Other|Burglary, Other B...|Open or Active|                null|    null|        Mission|                  null|               null|             null|               null|                null|\n",
      "|2020/02/03 02:45:...|   2020/02/03|        14:45|         2020|            Monday|2020/02/03 05:50:...|89881675000|     898816|      200085557| 200342870|              II|                Initial|       null|        75000|    Missing Person|      Missing Person|        Found Person|Open or Active|20TH AVE \\ WINSTO...|3.3719E7|        Taraval|             Lakeshore|                  7|37.72694991292525|-122.47603947349434|(37.7269499129252...|\n",
      "+--------------------+-------------+-------------+-------------+------------------+--------------------+-----------+-----------+---------------+----------+----------------+-----------------------+-----------+-------------+------------------+--------------------+--------------------+--------------+--------------------+--------+---------------+----------------------+-------------------+-----------------+-------------------+--------------------+\n",
      "only showing top 5 rows"
     ]
    }
   ],
   "source": [
    "file1.show(5)"
   ]
  },
  {
   "cell_type": "code",
   "execution_count": 9,
   "id": "afa72d81",
   "metadata": {},
   "outputs": [
    {
     "data": {
      "application/vnd.jupyter.widget-view+json": {
       "model_id": "737cf7e7f4d242bc8490dbd2e373d53b",
       "version_major": 2,
       "version_minor": 0
      },
      "text/plain": [
       "VBox()"
      ]
     },
     "metadata": {},
     "output_type": "display_data"
    },
    {
     "data": {
      "application/vnd.jupyter.widget-view+json": {
       "model_id": "",
       "version_major": 2,
       "version_minor": 0
      },
      "text/plain": [
       "FloatProgress(value=0.0, bar_style='info', description='Progress:', layout=Layout(height='25px', width='50%'),…"
      ]
     },
     "metadata": {},
     "output_type": "display_data"
    },
    {
     "name": "stdout",
     "output_type": "stream",
     "text": [
      "['Incident_DateTime', 'Incident_Date', 'Incident_Time', 'Incident_Year', 'Incident_DayOfWeek', 'Report_DateTime', 'Row_Id', 'Incident_Id', 'Incident_Number', 'Cad_Number', 'Report_Type_Code', 'Report_Type_Description', 'File_Online', 'Incident_Code', 'Incident_Category', 'Incident_Subcategory', 'Incident_Description', 'Resolution', 'Intersection', 'CNN', 'Police_District', 'Analysis_Neighbourhood', 'Supervisor_District', 'Latitude', 'Longitide', 'Point']"
     ]
    }
   ],
   "source": [
    "file1.columns"
   ]
  },
  {
   "cell_type": "code",
   "execution_count": 10,
   "id": "a5fb6c7c",
   "metadata": {},
   "outputs": [
    {
     "data": {
      "application/vnd.jupyter.widget-view+json": {
       "model_id": "bb48c73065fd4b0d92efa686f6fd8577",
       "version_major": 2,
       "version_minor": 0
      },
      "text/plain": [
       "VBox()"
      ]
     },
     "metadata": {},
     "output_type": "display_data"
    },
    {
     "data": {
      "application/vnd.jupyter.widget-view+json": {
       "model_id": "",
       "version_major": 2,
       "version_minor": 0
      },
      "text/plain": [
       "FloatProgress(value=0.0, bar_style='info', description='Progress:', layout=Layout(height='25px', width='50%'),…"
      ]
     },
     "metadata": {},
     "output_type": "display_data"
    },
    {
     "name": "stdout",
     "output_type": "stream",
     "text": [
      "+-----------+--------------------+\n",
      "|Incident_id|   Incident_Category|\n",
      "+-----------+--------------------+\n",
      "|     928973|  Malicious Mischief|\n",
      "|     928993|       Larceny Theft|\n",
      "|     929024|  Malicious Mischief|\n",
      "|     929053|            Burglary|\n",
      "|     898816|      Missing Person|\n",
      "|     929156|      Other Offenses|\n",
      "|     898607|     Stolen Property|\n",
      "|     898672|        Non-Criminal|\n",
      "|     898635|       Lost Property|\n",
      "|     898773|Miscellaneous Inv...|\n",
      "|     898762|Miscellaneous Inv...|\n",
      "|     897452|Offences Against ...|\n",
      "|     898622|       Larceny Theft|\n",
      "|     898700| Other Miscellaneous|\n",
      "|     898651|        Non-Criminal|\n",
      "|     898747|        Non-Criminal|\n",
      "|     898807|       Lost Property|\n",
      "|     898839|       Larceny Theft|\n",
      "|     898481|Miscellaneous Inv...|\n",
      "|     898656|       Larceny Theft|\n",
      "+-----------+--------------------+\n",
      "only showing top 20 rows"
     ]
    }
   ],
   "source": [
    "file1.select('Incident_id','Incident_Category').show()"
   ]
  },
  {
   "cell_type": "code",
   "execution_count": 12,
   "id": "ecfa1157",
   "metadata": {},
   "outputs": [
    {
     "data": {
      "application/vnd.jupyter.widget-view+json": {
       "model_id": "c50e9525d6e54ff3aa8e93caba207f80",
       "version_major": 2,
       "version_minor": 0
      },
      "text/plain": [
       "VBox()"
      ]
     },
     "metadata": {},
     "output_type": "display_data"
    },
    {
     "data": {
      "application/vnd.jupyter.widget-view+json": {
       "model_id": "",
       "version_major": 2,
       "version_minor": 0
      },
      "text/plain": [
       "FloatProgress(value=0.0, bar_style='info', description='Progress:', layout=Layout(height='25px', width='50%'),…"
      ]
     },
     "metadata": {},
     "output_type": "display_data"
    },
    {
     "name": "stdout",
     "output_type": "stream",
     "text": [
      "+--------------------------------------------+\n",
      "|Incident_Category                           |\n",
      "+--------------------------------------------+\n",
      "|Family Offense                              |\n",
      "|Embezzlement                                |\n",
      "|null                                        |\n",
      "|Rape                                        |\n",
      "|Arson                                       |\n",
      "|Other                                       |\n",
      "|Traffic Collision                           |\n",
      "|Non-Criminal                                |\n",
      "|Suspicious                                  |\n",
      "|Fire Report                                 |\n",
      "|Missing Person                              |\n",
      "|Lost Property                               |\n",
      "|Human Trafficking (B), Involuntary Servitude|\n",
      "|Fraud                                       |\n",
      "|Homicide                                    |\n",
      "|Drug Offense                                |\n",
      "|Gambling                                    |\n",
      "|Human Trafficking (A), Commercial Sex Acts  |\n",
      "|Warrant                                     |\n",
      "|Weapons Offense                             |\n",
      "+--------------------------------------------+\n",
      "only showing top 20 rows"
     ]
    }
   ],
   "source": [
    "file1.select('Incident_Category').distinct().show(truncate = False)"
   ]
  },
  {
   "cell_type": "code",
   "execution_count": 16,
   "id": "f953b81a",
   "metadata": {},
   "outputs": [
    {
     "data": {
      "application/vnd.jupyter.widget-view+json": {
       "model_id": "198080d1528f43eda523dd5ebe50c68a",
       "version_major": 2,
       "version_minor": 0
      },
      "text/plain": [
       "VBox()"
      ]
     },
     "metadata": {},
     "output_type": "display_data"
    },
    {
     "data": {
      "application/vnd.jupyter.widget-view+json": {
       "model_id": "",
       "version_major": 2,
       "version_minor": 0
      },
      "text/plain": [
       "FloatProgress(value=0.0, bar_style='info', description='Progress:', layout=Layout(height='25px', width='50%'),…"
      ]
     },
     "metadata": {},
     "output_type": "display_data"
    },
    {
     "name": "stdout",
     "output_type": "stream",
     "text": [
      "+-------------------+------+\n",
      "|Incident_Category  |count |\n",
      "+-------------------+------+\n",
      "|Larceny Theft      |112063|\n",
      "|Other Miscellaneous|26651 |\n",
      "|Non-Criminal       |21916 |\n",
      "|Malicious Mischief |21721 |\n",
      "|Assault            |20939 |\n",
      "|Burglary           |16694 |\n",
      "|Motor Vehicle Theft|13406 |\n",
      "|Warrant            |12575 |\n",
      "|Lost Property      |12488 |\n",
      "|Recovered Vehicle  |10660 |\n",
      "+-------------------+------+\n",
      "only showing top 10 rows"
     ]
    }
   ],
   "source": [
    "file1.select('Incident_Category').groupBy('Incident_Category').count().orderBy(\"count\", ascending = False).show(10,False)"
   ]
  },
  {
   "cell_type": "code",
   "execution_count": 17,
   "id": "5d71d565",
   "metadata": {},
   "outputs": [
    {
     "data": {
      "application/vnd.jupyter.widget-view+json": {
       "model_id": "f18bf19825304760afa2fb3821bdcdc3",
       "version_major": 2,
       "version_minor": 0
      },
      "text/plain": [
       "VBox()"
      ]
     },
     "metadata": {},
     "output_type": "display_data"
    },
    {
     "data": {
      "application/vnd.jupyter.widget-view+json": {
       "model_id": "",
       "version_major": 2,
       "version_minor": 0
      },
      "text/plain": [
       "FloatProgress(value=0.0, bar_style='info', description='Progress:', layout=Layout(height='25px', width='50%'),…"
      ]
     },
     "metadata": {},
     "output_type": "display_data"
    }
   ],
   "source": [
    "from pyspark.sql.functions import *"
   ]
  },
  {
   "cell_type": "code",
   "execution_count": 18,
   "id": "383b1d2e",
   "metadata": {},
   "outputs": [
    {
     "data": {
      "application/vnd.jupyter.widget-view+json": {
       "model_id": "055a8467be86408a9c33e2d59c96f539",
       "version_major": 2,
       "version_minor": 0
      },
      "text/plain": [
       "VBox()"
      ]
     },
     "metadata": {},
     "output_type": "display_data"
    },
    {
     "data": {
      "application/vnd.jupyter.widget-view+json": {
       "model_id": "",
       "version_major": 2,
       "version_minor": 0
      },
      "text/plain": [
       "FloatProgress(value=0.0, bar_style='info', description='Progress:', layout=Layout(height='25px', width='50%'),…"
      ]
     },
     "metadata": {},
     "output_type": "display_data"
    },
    {
     "name": "stdout",
     "output_type": "stream",
     "text": [
      "+----------------------+\n",
      "|Incident_DateTime     |\n",
      "+----------------------+\n",
      "|2020/05/12 05:45:00 PM|\n",
      "|2020/05/19 09:00:00 PM|\n",
      "|2020/05/16 06:00:00 PM|\n",
      "|2020/03/30 12:00:00 AM|\n",
      "|2020/02/03 02:45:00 PM|\n",
      "+----------------------+\n",
      "only showing top 5 rows"
     ]
    }
   ],
   "source": [
    "file1.select(\"Incident_DateTime\").show(5, False)"
   ]
  },
  {
   "cell_type": "code",
   "execution_count": 19,
   "id": "cf4d7294",
   "metadata": {},
   "outputs": [
    {
     "data": {
      "application/vnd.jupyter.widget-view+json": {
       "model_id": "e93f8352c9af4520aaf2066067e738c3",
       "version_major": 2,
       "version_minor": 0
      },
      "text/plain": [
       "VBox()"
      ]
     },
     "metadata": {},
     "output_type": "display_data"
    },
    {
     "data": {
      "application/vnd.jupyter.widget-view+json": {
       "model_id": "",
       "version_major": 2,
       "version_minor": 0
      },
      "text/plain": [
       "FloatProgress(value=0.0, bar_style='info', description='Progress:', layout=Layout(height='25px', width='50%'),…"
      ]
     },
     "metadata": {},
     "output_type": "display_data"
    }
   ],
   "source": [
    "pattern1 = 'yyyy/MM/dd hh:mm:ss aa'\n",
    "file2 = file1.withColumn('Incident_DateTime', unix_timestamp(file1['Incident_DateTime'], pattern1).cast('timestamp'))"
   ]
  },
  {
   "cell_type": "code",
   "execution_count": 20,
   "id": "c73b359e",
   "metadata": {},
   "outputs": [
    {
     "data": {
      "application/vnd.jupyter.widget-view+json": {
       "model_id": "441957f82c544ba0910177d4d8e1d414",
       "version_major": 2,
       "version_minor": 0
      },
      "text/plain": [
       "VBox()"
      ]
     },
     "metadata": {},
     "output_type": "display_data"
    },
    {
     "data": {
      "application/vnd.jupyter.widget-view+json": {
       "model_id": "",
       "version_major": 2,
       "version_minor": 0
      },
      "text/plain": [
       "FloatProgress(value=0.0, bar_style='info', description='Progress:', layout=Layout(height='25px', width='50%'),…"
      ]
     },
     "metadata": {},
     "output_type": "display_data"
    },
    {
     "name": "stdout",
     "output_type": "stream",
     "text": [
      "root\n",
      " |-- Incident_DateTime: timestamp (nullable = true)\n",
      " |-- Incident_Date: string (nullable = true)\n",
      " |-- Incident_Time: string (nullable = true)\n",
      " |-- Incident_Year: integer (nullable = true)\n",
      " |-- Incident_DayOfWeek: string (nullable = true)\n",
      " |-- Report_DateTime: string (nullable = true)\n",
      " |-- Row_Id: long (nullable = true)\n",
      " |-- Incident_Id: integer (nullable = true)\n",
      " |-- Incident_Number: integer (nullable = true)\n",
      " |-- Cad_Number: integer (nullable = true)\n",
      " |-- Report_Type_Code: string (nullable = true)\n",
      " |-- Report_Type_Description: string (nullable = true)\n",
      " |-- File_Online: boolean (nullable = true)\n",
      " |-- Incident_Code: integer (nullable = true)\n",
      " |-- Incident_Category: string (nullable = true)\n",
      " |-- Incident_Subcategory: string (nullable = true)\n",
      " |-- Incident_Description: string (nullable = true)\n",
      " |-- Resolution: string (nullable = true)\n",
      " |-- Intersection: string (nullable = true)\n",
      " |-- CNN: double (nullable = true)\n",
      " |-- Police_District: string (nullable = true)\n",
      " |-- Analysis_Neighbourhood: string (nullable = true)\n",
      " |-- Supervisor_District: integer (nullable = true)\n",
      " |-- Latitude: double (nullable = true)\n",
      " |-- Longitide: double (nullable = true)\n",
      " |-- Point: string (nullable = true)"
     ]
    }
   ],
   "source": [
    "file2.printSchema()"
   ]
  },
  {
   "cell_type": "code",
   "execution_count": 21,
   "id": "335ab14e",
   "metadata": {},
   "outputs": [
    {
     "data": {
      "application/vnd.jupyter.widget-view+json": {
       "model_id": "b4da4a709c254f269a30eb9802c1914f",
       "version_major": 2,
       "version_minor": 0
      },
      "text/plain": [
       "VBox()"
      ]
     },
     "metadata": {},
     "output_type": "display_data"
    },
    {
     "data": {
      "application/vnd.jupyter.widget-view+json": {
       "model_id": "",
       "version_major": 2,
       "version_minor": 0
      },
      "text/plain": [
       "FloatProgress(value=0.0, bar_style='info', description='Progress:', layout=Layout(height='25px', width='50%'),…"
      ]
     },
     "metadata": {},
     "output_type": "display_data"
    },
    {
     "name": "stdout",
     "output_type": "stream",
     "text": [
      "+-----------------------+\n",
      "|year(Incident_DateTime)|\n",
      "+-----------------------+\n",
      "|2018                   |\n",
      "|2020                   |\n",
      "|2019                   |\n",
      "+-----------------------+"
     ]
    }
   ],
   "source": [
    "file2.select(year('Incident_DateTime')).distinct().show(truncate = False)"
   ]
  },
  {
   "cell_type": "code",
   "execution_count": 22,
   "id": "0a657cbb",
   "metadata": {},
   "outputs": [
    {
     "data": {
      "application/vnd.jupyter.widget-view+json": {
       "model_id": "44cef7d6a0184ecf9b6a608c7883960e",
       "version_major": 2,
       "version_minor": 0
      },
      "text/plain": [
       "VBox()"
      ]
     },
     "metadata": {},
     "output_type": "display_data"
    },
    {
     "data": {
      "application/vnd.jupyter.widget-view+json": {
       "model_id": "",
       "version_major": 2,
       "version_minor": 0
      },
      "text/plain": [
       "FloatProgress(value=0.0, bar_style='info', description='Progress:', layout=Layout(height='25px', width='50%'),…"
      ]
     },
     "metadata": {},
     "output_type": "display_data"
    },
    {
     "name": "stdout",
     "output_type": "stream",
     "text": [
      "+----------------------+-------------+-------------+-------------+----------------------+\n",
      "|Incident_DateTime     |Incident_Date|Incident_Time|Incident_Year|Report_DateTime       |\n",
      "+----------------------+-------------+-------------+-------------+----------------------+\n",
      "|2020/05/12 05:45:00 PM|2020/05/12   |17:45        |2020         |2020/05/13 09:46:00 AM|\n",
      "|2020/05/19 09:00:00 PM|2020/05/19   |21:00        |2020         |2020/05/20 05:43:00 PM|\n",
      "|2020/05/16 06:00:00 PM|2020/05/16   |18:00        |2020         |2020/05/16 10:26:00 PM|\n",
      "|2020/03/30 12:00:00 AM|2020/03/30   |00:00        |2020         |2020/05/04 11:47:00 AM|\n",
      "|2020/02/03 02:45:00 PM|2020/02/03   |14:45        |2020         |2020/02/03 05:50:00 PM|\n",
      "+----------------------+-------------+-------------+-------------+----------------------+\n",
      "only showing top 5 rows"
     ]
    }
   ],
   "source": [
    "file1.select('Incident_DateTime', 'Incident_Date','Incident_Time', 'Incident_Year', 'Report_DateTime').show(5, False)"
   ]
  },
  {
   "cell_type": "code",
   "execution_count": 23,
   "id": "138d803f",
   "metadata": {},
   "outputs": [
    {
     "data": {
      "application/vnd.jupyter.widget-view+json": {
       "model_id": "373c7d39a291454bbb600ae18efb783d",
       "version_major": 2,
       "version_minor": 0
      },
      "text/plain": [
       "VBox()"
      ]
     },
     "metadata": {},
     "output_type": "display_data"
    },
    {
     "data": {
      "application/vnd.jupyter.widget-view+json": {
       "model_id": "",
       "version_major": 2,
       "version_minor": 0
      },
      "text/plain": [
       "FloatProgress(value=0.0, bar_style='info', description='Progress:', layout=Layout(height='25px', width='50%'),…"
      ]
     },
     "metadata": {},
     "output_type": "display_data"
    }
   ],
   "source": [
    "pattern1 = 'yyyy/MM/dd hh:mm:ss aa'\n",
    "pattern2 = 'yyyy/MM/dd'\n",
    "pattern3 = 'hh:mm'\n",
    "pattern4 = 'yyyy'\n",
    "file2 = file1.withColumn('Incident_DateTime', unix_timestamp(file1['Incident_DateTime'], pattern1).cast('timestamp'))\\\n",
    ".withColumn('Incident_Date', unix_timestamp(file1['Incident_Date'], pattern2).cast('timestamp'))\\\n",
    ".withColumn('Incident_Time', unix_timestamp(file1['Incident_Time'], pattern3).cast('timestamp'))\\\n",
    ".withColumn('Report_DateTime', unix_timestamp(file1['Report_DateTime'], pattern1).cast('timestamp'))"
   ]
  },
  {
   "cell_type": "code",
   "execution_count": 24,
   "id": "8ccad225",
   "metadata": {},
   "outputs": [
    {
     "data": {
      "application/vnd.jupyter.widget-view+json": {
       "model_id": "e0fb8555cd964b68b8755304543b0d3c",
       "version_major": 2,
       "version_minor": 0
      },
      "text/plain": [
       "VBox()"
      ]
     },
     "metadata": {},
     "output_type": "display_data"
    },
    {
     "data": {
      "application/vnd.jupyter.widget-view+json": {
       "model_id": "",
       "version_major": 2,
       "version_minor": 0
      },
      "text/plain": [
       "FloatProgress(value=0.0, bar_style='info', description='Progress:', layout=Layout(height='25px', width='50%'),…"
      ]
     },
     "metadata": {},
     "output_type": "display_data"
    },
    {
     "name": "stdout",
     "output_type": "stream",
     "text": [
      "root\n",
      " |-- Incident_DateTime: timestamp (nullable = true)\n",
      " |-- Incident_Date: timestamp (nullable = true)\n",
      " |-- Incident_Time: timestamp (nullable = true)\n",
      " |-- Incident_Year: integer (nullable = true)\n",
      " |-- Incident_DayOfWeek: string (nullable = true)\n",
      " |-- Report_DateTime: timestamp (nullable = true)\n",
      " |-- Row_Id: long (nullable = true)\n",
      " |-- Incident_Id: integer (nullable = true)\n",
      " |-- Incident_Number: integer (nullable = true)\n",
      " |-- Cad_Number: integer (nullable = true)\n",
      " |-- Report_Type_Code: string (nullable = true)\n",
      " |-- Report_Type_Description: string (nullable = true)\n",
      " |-- File_Online: boolean (nullable = true)\n",
      " |-- Incident_Code: integer (nullable = true)\n",
      " |-- Incident_Category: string (nullable = true)\n",
      " |-- Incident_Subcategory: string (nullable = true)\n",
      " |-- Incident_Description: string (nullable = true)\n",
      " |-- Resolution: string (nullable = true)\n",
      " |-- Intersection: string (nullable = true)\n",
      " |-- CNN: double (nullable = true)\n",
      " |-- Police_District: string (nullable = true)\n",
      " |-- Analysis_Neighbourhood: string (nullable = true)\n",
      " |-- Supervisor_District: integer (nullable = true)\n",
      " |-- Latitude: double (nullable = true)\n",
      " |-- Longitide: double (nullable = true)\n",
      " |-- Point: string (nullable = true)"
     ]
    }
   ],
   "source": [
    "file2.printSchema()"
   ]
  },
  {
   "cell_type": "code",
   "execution_count": 25,
   "id": "3bd55cf0",
   "metadata": {},
   "outputs": [
    {
     "data": {
      "application/vnd.jupyter.widget-view+json": {
       "model_id": "36f4acfab70e4bee82605d0f022c6a5f",
       "version_major": 2,
       "version_minor": 0
      },
      "text/plain": [
       "VBox()"
      ]
     },
     "metadata": {},
     "output_type": "display_data"
    },
    {
     "data": {
      "application/vnd.jupyter.widget-view+json": {
       "model_id": "",
       "version_major": 2,
       "version_minor": 0
      },
      "text/plain": [
       "FloatProgress(value=0.0, bar_style='info', description='Progress:', layout=Layout(height='25px', width='50%'),…"
      ]
     },
     "metadata": {},
     "output_type": "display_data"
    }
   ],
   "source": [
    "####   Analysis 1 ##############\n",
    "# Find the days of the week on which maximum incidents has happened\n"
   ]
  },
  {
   "cell_type": "code",
   "execution_count": 26,
   "id": "adf848e2",
   "metadata": {},
   "outputs": [
    {
     "data": {
      "application/vnd.jupyter.widget-view+json": {
       "model_id": "811817cbae434d38ab7ac23a713729a0",
       "version_major": 2,
       "version_minor": 0
      },
      "text/plain": [
       "VBox()"
      ]
     },
     "metadata": {},
     "output_type": "display_data"
    },
    {
     "data": {
      "application/vnd.jupyter.widget-view+json": {
       "model_id": "",
       "version_major": 2,
       "version_minor": 0
      },
      "text/plain": [
       "FloatProgress(value=0.0, bar_style='info', description='Progress:', layout=Layout(height='25px', width='50%'),…"
      ]
     },
     "metadata": {},
     "output_type": "display_data"
    },
    {
     "name": "stdout",
     "output_type": "stream",
     "text": [
      "+----------------------------+\n",
      "|dayofweek(Incident_DateTime)|\n",
      "+----------------------------+\n",
      "|                           3|\n",
      "|                           3|\n",
      "|                           7|\n",
      "|                           2|\n",
      "|                           2|\n",
      "|                           6|\n",
      "|                           2|\n",
      "|                           2|\n",
      "|                           1|\n",
      "|                           1|\n",
      "|                           2|\n",
      "|                           5|\n",
      "|                           4|\n",
      "|                           5|\n",
      "|                           2|\n",
      "|                           2|\n",
      "|                           6|\n",
      "|                           2|\n",
      "|                           6|\n",
      "|                           6|\n",
      "+----------------------------+\n",
      "only showing top 20 rows"
     ]
    }
   ],
   "source": [
    "file2.select(dayofweek(\"Incident_DateTime\")).show()"
   ]
  },
  {
   "cell_type": "code",
   "execution_count": 31,
   "id": "99244b69",
   "metadata": {},
   "outputs": [
    {
     "data": {
      "application/vnd.jupyter.widget-view+json": {
       "model_id": "4b366fbb005140adbd64a9cb2a8e8442",
       "version_major": 2,
       "version_minor": 0
      },
      "text/plain": [
       "VBox()"
      ]
     },
     "metadata": {},
     "output_type": "display_data"
    },
    {
     "data": {
      "application/vnd.jupyter.widget-view+json": {
       "model_id": "",
       "version_major": 2,
       "version_minor": 0
      },
      "text/plain": [
       "FloatProgress(value=0.0, bar_style='info', description='Progress:', layout=Layout(height='25px', width='50%'),…"
      ]
     },
     "metadata": {},
     "output_type": "display_data"
    },
    {
     "name": "stdout",
     "output_type": "stream",
     "text": [
      "+---------------------------------+\n",
      "|date_format(Incident_DateTime, E)|\n",
      "+---------------------------------+\n",
      "|                              Tue|\n",
      "|                              Tue|\n",
      "|                              Sat|\n",
      "|                              Mon|\n",
      "|                              Mon|\n",
      "|                              Fri|\n",
      "|                              Mon|\n",
      "+---------------------------------+\n",
      "only showing top 7 rows"
     ]
    }
   ],
   "source": [
    "file2.select(date_format(\"Incident_DateTime\",\"E\")).show(7)"
   ]
  },
  {
   "cell_type": "code",
   "execution_count": 35,
   "id": "b3d4c490",
   "metadata": {},
   "outputs": [
    {
     "data": {
      "application/vnd.jupyter.widget-view+json": {
       "model_id": "4c58b56bead443c8b500e0e4899d487d",
       "version_major": 2,
       "version_minor": 0
      },
      "text/plain": [
       "VBox()"
      ]
     },
     "metadata": {},
     "output_type": "display_data"
    },
    {
     "data": {
      "application/vnd.jupyter.widget-view+json": {
       "model_id": "",
       "version_major": 2,
       "version_minor": 0
      },
      "text/plain": [
       "FloatProgress(value=0.0, bar_style='info', description='Progress:', layout=Layout(height='25px', width='50%'),…"
      ]
     },
     "metadata": {},
     "output_type": "display_data"
    }
   ],
   "source": [
    "# Adding a new column in our dataframe,which add the day of the week in each record\n",
    "file3 =file2.withColumn('dayOfTheWeek' , date_format(\"Incident_DateTime\",'E'))\n",
    "\n"
   ]
  },
  {
   "cell_type": "code",
   "execution_count": 33,
   "id": "0cbdca62",
   "metadata": {},
   "outputs": [
    {
     "data": {
      "application/vnd.jupyter.widget-view+json": {
       "model_id": "6e35cde3ffb34536b99ca39b3ec70693",
       "version_major": 2,
       "version_minor": 0
      },
      "text/plain": [
       "VBox()"
      ]
     },
     "metadata": {},
     "output_type": "display_data"
    },
    {
     "data": {
      "application/vnd.jupyter.widget-view+json": {
       "model_id": "",
       "version_major": 2,
       "version_minor": 0
      },
      "text/plain": [
       "FloatProgress(value=0.0, bar_style='info', description='Progress:', layout=Layout(height='25px', width='50%'),…"
      ]
     },
     "metadata": {},
     "output_type": "display_data"
    },
    {
     "name": "stdout",
     "output_type": "stream",
     "text": [
      "+------------+-----+\n",
      "|dayOfTheWeek|count|\n",
      "+------------+-----+\n",
      "|         Fri|54114|\n",
      "|         Wed|52448|\n",
      "|         Sat|50660|\n",
      "|         Mon|50466|\n",
      "|         Tue|50181|\n",
      "|         Thu|50035|\n",
      "|         Sun|46885|\n",
      "+------------+-----+"
     ]
    }
   ],
   "source": [
    "file3.groupBy('dayOfTheWeek').count().orderBy('count', ascending = False).show()\n"
   ]
  },
  {
   "cell_type": "code",
   "execution_count": 36,
   "id": "defaf7cb",
   "metadata": {},
   "outputs": [
    {
     "data": {
      "application/vnd.jupyter.widget-view+json": {
       "model_id": "210cfc13d09e4165a5770f46d6d85c35",
       "version_major": 2,
       "version_minor": 0
      },
      "text/plain": [
       "VBox()"
      ]
     },
     "metadata": {},
     "output_type": "display_data"
    },
    {
     "data": {
      "application/vnd.jupyter.widget-view+json": {
       "model_id": "",
       "version_major": 2,
       "version_minor": 0
      },
      "text/plain": [
       "FloatProgress(value=0.0, bar_style='info', description='Progress:', layout=Layout(height='25px', width='50%'),…"
      ]
     },
     "metadata": {},
     "output_type": "display_data"
    }
   ],
   "source": [
    "#################  Analysis 2    ####################\n",
    "\n",
    "# What percent of the incidents has been recorded online\n"
   ]
  },
  {
   "cell_type": "code",
   "execution_count": 37,
   "id": "c996ae43",
   "metadata": {},
   "outputs": [
    {
     "data": {
      "application/vnd.jupyter.widget-view+json": {
       "model_id": "9731adba22a146489001cc674623aca3",
       "version_major": 2,
       "version_minor": 0
      },
      "text/plain": [
       "VBox()"
      ]
     },
     "metadata": {},
     "output_type": "display_data"
    },
    {
     "data": {
      "application/vnd.jupyter.widget-view+json": {
       "model_id": "",
       "version_major": 2,
       "version_minor": 0
      },
      "text/plain": [
       "FloatProgress(value=0.0, bar_style='info', description='Progress:', layout=Layout(height='25px', width='50%'),…"
      ]
     },
     "metadata": {},
     "output_type": "display_data"
    },
    {
     "name": "stdout",
     "output_type": "stream",
     "text": [
      "+-----------+\n",
      "|File_Online|\n",
      "+-----------+\n",
      "|       true|\n",
      "|       true|\n",
      "|       true|\n",
      "|       true|\n",
      "|       null|\n",
      "|       null|\n",
      "|       null|\n",
      "|       null|\n",
      "|       true|\n",
      "|       null|\n",
      "|       null|\n",
      "|       null|\n",
      "|       true|\n",
      "|       null|\n",
      "|       null|\n",
      "|       null|\n",
      "|       null|\n",
      "|       null|\n",
      "|       null|\n",
      "|       null|\n",
      "+-----------+\n",
      "only showing top 20 rows"
     ]
    }
   ],
   "source": [
    " file2.select(\"File_Online\").show()"
   ]
  },
  {
   "cell_type": "code",
   "execution_count": 39,
   "id": "408dbddc",
   "metadata": {},
   "outputs": [
    {
     "data": {
      "application/vnd.jupyter.widget-view+json": {
       "model_id": "fd38f06ae7fd41c5a22ea609930002f4",
       "version_major": 2,
       "version_minor": 0
      },
      "text/plain": [
       "VBox()"
      ]
     },
     "metadata": {},
     "output_type": "display_data"
    },
    {
     "data": {
      "application/vnd.jupyter.widget-view+json": {
       "model_id": "",
       "version_major": 2,
       "version_minor": 0
      },
      "text/plain": [
       "FloatProgress(value=0.0, bar_style='info', description='Progress:', layout=Layout(height='25px', width='50%'),…"
      ]
     },
     "metadata": {},
     "output_type": "display_data"
    },
    {
     "name": "stdout",
     "output_type": "stream",
     "text": [
      "+-----------+\n",
      "|File_Online|\n",
      "+-----------+\n",
      "|       true|\n",
      "|       true|\n",
      "|       true|\n",
      "|       true|\n",
      "|      false|\n",
      "|      false|\n",
      "|      false|\n",
      "|      false|\n",
      "|       true|\n",
      "|      false|\n",
      "|      false|\n",
      "|      false|\n",
      "|       true|\n",
      "|      false|\n",
      "|      false|\n",
      "|      false|\n",
      "|      false|\n",
      "|      false|\n",
      "|      false|\n",
      "|      false|\n",
      "+-----------+\n",
      "only showing top 20 rows"
     ]
    }
   ],
   "source": [
    "file3 = file2.withColumn(\"File_Online\" ,when(col(\"File_Online\") == True , True).otherwise(False) )\n",
    "file3.select('File_Online').show()"
   ]
  },
  {
   "cell_type": "code",
   "execution_count": 38,
   "id": "f154f06c",
   "metadata": {},
   "outputs": [
    {
     "data": {
      "application/vnd.jupyter.widget-view+json": {
       "model_id": "3b205783fe7e4841a36a5c890d9fb0b0",
       "version_major": 2,
       "version_minor": 0
      },
      "text/plain": [
       "VBox()"
      ]
     },
     "metadata": {},
     "output_type": "display_data"
    },
    {
     "data": {
      "application/vnd.jupyter.widget-view+json": {
       "model_id": "",
       "version_major": 2,
       "version_minor": 0
      },
      "text/plain": [
       "FloatProgress(value=0.0, bar_style='info', description='Progress:', layout=Layout(height='25px', width='50%'),…"
      ]
     },
     "metadata": {},
     "output_type": "display_data"
    },
    {
     "name": "stdout",
     "output_type": "stream",
     "text": [
      "+-----------+------+\n",
      "|File_Online| count|\n",
      "+-----------+------+\n",
      "|       null|279182|\n",
      "|       true| 75607|\n",
      "+-----------+------+"
     ]
    }
   ],
   "source": [
    "file4 = file3.select(\"File_Online\").groupBy('File_Online').count()\n",
    "\n",
    "file4.show()"
   ]
  },
  {
   "cell_type": "code",
   "execution_count": 40,
   "id": "b0143701",
   "metadata": {},
   "outputs": [
    {
     "data": {
      "application/vnd.jupyter.widget-view+json": {
       "model_id": "21ca16c847404376924bc0f7b5d2b9b5",
       "version_major": 2,
       "version_minor": 0
      },
      "text/plain": [
       "VBox()"
      ]
     },
     "metadata": {},
     "output_type": "display_data"
    },
    {
     "data": {
      "application/vnd.jupyter.widget-view+json": {
       "model_id": "",
       "version_major": 2,
       "version_minor": 0
      },
      "text/plain": [
       "FloatProgress(value=0.0, bar_style='info', description='Progress:', layout=Layout(height='25px', width='50%'),…"
      ]
     },
     "metadata": {},
     "output_type": "display_data"
    },
    {
     "name": "stdout",
     "output_type": "stream",
     "text": [
      "+-----------+------+------------------+\n",
      "|File_Online| count|            colnew|\n",
      "+-----------+------+------------------+\n",
      "|       null|279182|0.7868958733218899|\n",
      "|       true| 75607|0.2131041266781101|\n",
      "+-----------+------+------------------+"
     ]
    }
   ],
   "source": [
    "from pyspark.sql.window import Window\n",
    "\n",
    "file4.withColumn( 'colnew' ,col('count') / sum('count').over(Window.partitionBy())).show()"
   ]
  },
  {
   "cell_type": "code",
   "execution_count": 41,
   "id": "1067c0ea",
   "metadata": {},
   "outputs": [
    {
     "data": {
      "application/vnd.jupyter.widget-view+json": {
       "model_id": "4580d84821a24dd7b5c4051d8f0b65cf",
       "version_major": 2,
       "version_minor": 0
      },
      "text/plain": [
       "VBox()"
      ]
     },
     "metadata": {},
     "output_type": "display_data"
    },
    {
     "data": {
      "application/vnd.jupyter.widget-view+json": {
       "model_id": "",
       "version_major": 2,
       "version_minor": 0
      },
      "text/plain": [
       "FloatProgress(value=0.0, bar_style='info', description='Progress:', layout=Layout(height='25px', width='50%'),…"
      ]
     },
     "metadata": {},
     "output_type": "display_data"
    },
    {
     "name": "stdout",
     "output_type": "stream",
     "text": [
      "+-----------------------+------+\n",
      "|year(Incident_DateTime)| count|\n",
      "+-----------------------+------+\n",
      "|                   2018|153705|\n",
      "|                   2020| 52155|\n",
      "|                   2019|148929|\n",
      "+-----------------------+------+"
     ]
    }
   ],
   "source": [
    "\n",
    "############   Analysis 3 ###################\n",
    "\n",
    "# Group by the numbers of incidents reported based on each Year\n",
    "\n",
    "incidents_reporter_per_year = file2.select(year('Incident_DateTime')).groupBy('year(Incident_DateTime)').count()\n",
    "\n",
    "incidents_reporter_per_year.show()"
   ]
  },
  {
   "cell_type": "code",
   "execution_count": 42,
   "id": "4f051fd1",
   "metadata": {},
   "outputs": [
    {
     "data": {
      "application/vnd.jupyter.widget-view+json": {
       "model_id": "7678962d29c9416cac63885909ad06c7",
       "version_major": 2,
       "version_minor": 0
      },
      "text/plain": [
       "VBox()"
      ]
     },
     "metadata": {},
     "output_type": "display_data"
    },
    {
     "data": {
      "application/vnd.jupyter.widget-view+json": {
       "model_id": "",
       "version_major": 2,
       "version_minor": 0
      },
      "text/plain": [
       "FloatProgress(value=0.0, bar_style='info', description='Progress:', layout=Layout(height='25px', width='50%'),…"
      ]
     },
     "metadata": {},
     "output_type": "display_data"
    }
   ],
   "source": [
    "###### Running SQL queries in spark ################"
   ]
  },
  {
   "cell_type": "code",
   "execution_count": 44,
   "id": "29be633c",
   "metadata": {},
   "outputs": [
    {
     "data": {
      "application/vnd.jupyter.widget-view+json": {
       "model_id": "8d0e741e761a43c7ad7235a25c77727d",
       "version_major": 2,
       "version_minor": 0
      },
      "text/plain": [
       "VBox()"
      ]
     },
     "metadata": {},
     "output_type": "display_data"
    },
    {
     "data": {
      "application/vnd.jupyter.widget-view+json": {
       "model_id": "",
       "version_major": 2,
       "version_minor": 0
      },
      "text/plain": [
       "FloatProgress(value=0.0, bar_style='info', description='Progress:', layout=Layout(height='25px', width='50%'),…"
      ]
     },
     "metadata": {},
     "output_type": "display_data"
    }
   ],
   "source": [
    "file2.registerTempTable(\"police_report_data\")"
   ]
  },
  {
   "cell_type": "code",
   "execution_count": 45,
   "id": "1417761a",
   "metadata": {},
   "outputs": [
    {
     "data": {
      "application/vnd.jupyter.widget-view+json": {
       "model_id": "8589b9b320f343358d3fe0f039979320",
       "version_major": 2,
       "version_minor": 0
      },
      "text/plain": [
       "VBox()"
      ]
     },
     "metadata": {},
     "output_type": "display_data"
    },
    {
     "data": {
      "application/vnd.jupyter.widget-view+json": {
       "model_id": "",
       "version_major": 2,
       "version_minor": 0
      },
      "text/plain": [
       "FloatProgress(value=0.0, bar_style='info', description='Progress:', layout=Layout(height='25px', width='50%'),…"
      ]
     },
     "metadata": {},
     "output_type": "display_data"
    },
    {
     "name": "stdout",
     "output_type": "stream",
     "text": [
      "+-------------------+-------------------+-------------+-------------+------------------+-------------------+-----------+-----------+---------------+----------+----------------+-----------------------+-----------+-------------+------------------+--------------------+--------------------+--------------+------------+----+---------------+----------------------+-------------------+--------+---------+-----+\n",
      "|  Incident_DateTime|      Incident_Date|Incident_Time|Incident_Year|Incident_DayOfWeek|    Report_DateTime|     Row_Id|Incident_Id|Incident_Number|Cad_Number|Report_Type_Code|Report_Type_Description|File_Online|Incident_Code| Incident_Category|Incident_Subcategory|Incident_Description|    Resolution|Intersection| CNN|Police_District|Analysis_Neighbourhood|Supervisor_District|Latitude|Longitide|Point|\n",
      "+-------------------+-------------------+-------------+-------------+------------------+-------------------+-----------+-----------+---------------+----------+----------------+-----------------------+-----------+-------------+------------------+--------------------+--------------------+--------------+------------+----+---------------+----------------------+-------------------+--------+---------+-----+\n",
      "|2020-05-12 17:45:00|2020-05-12 00:00:00|         null|         2020|           Tuesday|2020-05-13 09:46:00|92897328150|     928973|      206082743|      null|              II|       Coplogic Initial|       true|        28150|Malicious Mischief|           Vandalism|Malicious Mischie...|Open or Active|        null|null|        Bayview|                  null|               null|    null|     null| null|\n",
      "|2020-05-19 21:00:00|2020-05-19 00:00:00|         null|         2020|           Tuesday|2020-05-20 17:43:00|92899306244|     928993|      206082709|      null|              II|       Coplogic Initial|       true|         6244|     Larceny Theft|Larceny - From Ve...|Theft, From Locke...|Open or Active|        null|null|       Southern|                  null|               null|    null|     null| null|\n",
      "|2020-05-16 18:00:00|2020-05-16 00:00:00|         null|         2020|          Saturday|2020-05-16 22:26:00|92902428150|     929024|      206083296|      null|              II|       Coplogic Initial|       true|        28150|Malicious Mischief|           Vandalism|Malicious Mischie...|Open or Active|        null|null|        Mission|                  null|               null|    null|     null| null|\n",
      "+-------------------+-------------------+-------------+-------------+------------------+-------------------+-----------+-----------+---------------+----------+----------------+-----------------------+-----------+-------------+------------------+--------------------+--------------------+--------------+------------+----+---------------+----------------------+-------------------+--------+---------+-----+\n",
      "only showing top 3 rows"
     ]
    }
   ],
   "source": [
    "spark.sql(\"select * from police_report_data\").show(3)"
   ]
  },
  {
   "cell_type": "code",
   "execution_count": 47,
   "id": "2d1d9213",
   "metadata": {},
   "outputs": [
    {
     "data": {
      "application/vnd.jupyter.widget-view+json": {
       "model_id": "fb719112eda44146aeada761c0d45a7e",
       "version_major": 2,
       "version_minor": 0
      },
      "text/plain": [
       "VBox()"
      ]
     },
     "metadata": {},
     "output_type": "display_data"
    },
    {
     "data": {
      "application/vnd.jupyter.widget-view+json": {
       "model_id": "",
       "version_major": 2,
       "version_minor": 0
      },
      "text/plain": [
       "FloatProgress(value=0.0, bar_style='info', description='Progress:', layout=Layout(height='25px', width='50%'),…"
      ]
     },
     "metadata": {},
     "output_type": "display_data"
    },
    {
     "name": "stdout",
     "output_type": "stream",
     "text": [
      "+--------------------------------------------+------------------------+\n",
      "|Incident_Category                           |count(Incident_Category)|\n",
      "+--------------------------------------------+------------------------+\n",
      "|Family Offense                              |457                     |\n",
      "|Embezzlement                                |501                     |\n",
      "|null                                        |0                       |\n",
      "|Rape                                        |95                      |\n",
      "|Arson                                       |856                     |\n",
      "|Other                                       |2460                    |\n",
      "|Traffic Collision                           |672                     |\n",
      "|Non-Criminal                                |21916                   |\n",
      "|Suspicious                                  |66                      |\n",
      "|Fire Report                                 |372                     |\n",
      "|Missing Person                              |8099                    |\n",
      "|Lost Property                               |12488                   |\n",
      "|Human Trafficking (B), Involuntary Servitude|1                       |\n",
      "|Fraud                                       |10423                   |\n",
      "|Homicide                                    |43                      |\n",
      "|Drug Offense                                |8937                    |\n",
      "|Gambling                                    |21                      |\n",
      "|Human Trafficking (A), Commercial Sex Acts  |105                     |\n",
      "|Warrant                                     |12575                   |\n",
      "|Weapons Offense                             |1894                    |\n",
      "|Other Offenses                              |2814                    |\n",
      "|Civil Sidewalks                             |861                     |\n",
      "|Other Miscellaneous                         |26651                   |\n",
      "|Juvenile Offenses                           |1                       |\n",
      "|Vehicle Misplaced                           |158                     |\n",
      "|Sex Offense                                 |1031                    |\n",
      "|Drug Violation                              |119                     |\n",
      "|Vehicle Impounded                           |259                     |\n",
      "|Suicide                                     |164                     |\n",
      "|Suspicious Occ                              |6684                    |\n",
      "|Malicious Mischief                          |21721                   |\n",
      "|Disorderly Conduct                          |6231                    |\n",
      "|Offences Against The Family And Children    |6890                    |\n",
      "|Forgery And Counterfeiting                  |1514                    |\n",
      "|Robbery                                     |8364                    |\n",
      "|Human Trafficking, Commercial Sex Acts      |17                      |\n",
      "|Weapons Offence                             |17                      |\n",
      "|Burglary                                    |16694                   |\n",
      "|Traffic Violation Arrest                    |4458                    |\n",
      "|Courtesy Report                             |1042                    |\n",
      "|Weapons Carrying Etc                        |1899                    |\n",
      "|Assault                                     |20939                   |\n",
      "|Recovered Vehicle                           |10660                   |\n",
      "|Motor Vehicle Theft?                        |49                      |\n",
      "|Miscellaneous Investigation                 |3175                    |\n",
      "|Prostitution                                |808                     |\n",
      "|Case Closure                                |1511                    |\n",
      "|Larceny Theft                               |112063                  |\n",
      "|Liquor Laws                                 |73                      |\n",
      "|Motor Vehicle Theft                         |13406                   |\n",
      "|Vandalism                                   |508                     |\n",
      "|Stolen Property                             |1834                    |\n",
      "+--------------------------------------------+------------------------+"
     ]
    }
   ],
   "source": [
    "## Finding the number of incidents of for each incident_category\n",
    "spark.sql(\"select Incident_Category , count(Incident_Category) from police_report_data group by  Incident_Category\").show(52, False)\n"
   ]
  },
  {
   "cell_type": "code",
   "execution_count": 48,
   "id": "49577a30",
   "metadata": {},
   "outputs": [
    {
     "data": {
      "application/vnd.jupyter.widget-view+json": {
       "model_id": "0e3846d190e14058915a343e7186569a",
       "version_major": 2,
       "version_minor": 0
      },
      "text/plain": [
       "VBox()"
      ]
     },
     "metadata": {},
     "output_type": "display_data"
    },
    {
     "data": {
      "application/vnd.jupyter.widget-view+json": {
       "model_id": "",
       "version_major": 2,
       "version_minor": 0
      },
      "text/plain": [
       "FloatProgress(value=0.0, bar_style='info', description='Progress:', layout=Layout(height='25px', width='50%'),…"
      ]
     },
     "metadata": {},
     "output_type": "display_data"
    }
   ],
   "source": [
    "####   Analysis 2 ##############\n",
    "# Find the days of the week on which maximum incidents has happened\n"
   ]
  },
  {
   "cell_type": "code",
   "execution_count": 49,
   "id": "d7ef2903",
   "metadata": {},
   "outputs": [
    {
     "data": {
      "application/vnd.jupyter.widget-view+json": {
       "model_id": "6f37a45dd6b14847a61035c6f99a4ed2",
       "version_major": 2,
       "version_minor": 0
      },
      "text/plain": [
       "VBox()"
      ]
     },
     "metadata": {},
     "output_type": "display_data"
    },
    {
     "data": {
      "application/vnd.jupyter.widget-view+json": {
       "model_id": "",
       "version_major": 2,
       "version_minor": 0
      },
      "text/plain": [
       "FloatProgress(value=0.0, bar_style='info', description='Progress:', layout=Layout(height='25px', width='50%'),…"
      ]
     },
     "metadata": {},
     "output_type": "display_data"
    }
   ],
   "source": [
    "file2.withColumn('dayOfTheWeek' , date_format(\"Incident_DateTime\",'E')).registerTempTable(\"police_report_data_with_day\")"
   ]
  },
  {
   "cell_type": "code",
   "execution_count": 50,
   "id": "7774af35",
   "metadata": {},
   "outputs": [
    {
     "data": {
      "application/vnd.jupyter.widget-view+json": {
       "model_id": "01f9097042ca420d800e098f040d1a24",
       "version_major": 2,
       "version_minor": 0
      },
      "text/plain": [
       "VBox()"
      ]
     },
     "metadata": {},
     "output_type": "display_data"
    },
    {
     "data": {
      "application/vnd.jupyter.widget-view+json": {
       "model_id": "",
       "version_major": 2,
       "version_minor": 0
      },
      "text/plain": [
       "FloatProgress(value=0.0, bar_style='info', description='Progress:', layout=Layout(height='25px', width='50%'),…"
      ]
     },
     "metadata": {},
     "output_type": "display_data"
    },
    {
     "name": "stdout",
     "output_type": "stream",
     "text": [
      "+------------+\n",
      "|dayOfTheWeek|\n",
      "+------------+\n",
      "|Tue         |\n",
      "|Tue         |\n",
      "|Sat         |\n",
      "|Mon         |\n",
      "|Mon         |\n",
      "|Fri         |\n",
      "|Mon         |\n",
      "|Mon         |\n",
      "|Sun         |\n",
      "|Sun         |\n",
      "|Mon         |\n",
      "|Thu         |\n",
      "+------------+\n",
      "only showing top 12 rows"
     ]
    }
   ],
   "source": [
    "spark.sql('select dayOfTheWeek from police_report_data_with_day ').show(12, False)"
   ]
  },
  {
   "cell_type": "code",
   "execution_count": 51,
   "id": "e94154de",
   "metadata": {},
   "outputs": [
    {
     "data": {
      "application/vnd.jupyter.widget-view+json": {
       "model_id": "57bd83eccb154cbbaaf28222b7d52262",
       "version_major": 2,
       "version_minor": 0
      },
      "text/plain": [
       "VBox()"
      ]
     },
     "metadata": {},
     "output_type": "display_data"
    },
    {
     "data": {
      "application/vnd.jupyter.widget-view+json": {
       "model_id": "",
       "version_major": 2,
       "version_minor": 0
      },
      "text/plain": [
       "FloatProgress(value=0.0, bar_style='info', description='Progress:', layout=Layout(height='25px', width='50%'),…"
      ]
     },
     "metadata": {},
     "output_type": "display_data"
    },
    {
     "name": "stdout",
     "output_type": "stream",
     "text": [
      "+------------+-------------------+\n",
      "|dayOfTheWeek|count(dayOfTheWeek)|\n",
      "+------------+-------------------+\n",
      "|         Fri|              54114|\n",
      "|         Wed|              52448|\n",
      "|         Sat|              50660|\n",
      "|         Mon|              50466|\n",
      "|         Tue|              50181|\n",
      "|         Thu|              50035|\n",
      "|         Sun|              46885|\n",
      "+------------+-------------------+"
     ]
    }
   ],
   "source": [
    "spark.sql('select dayOfTheWeek , count(dayOfTheWeek) from police_report_data_with_day group by dayOfTheWeek order by count(dayOfTheWeek) desc ').show()"
   ]
  },
  {
   "cell_type": "code",
   "execution_count": 52,
   "id": "7fbd2e67",
   "metadata": {},
   "outputs": [
    {
     "data": {
      "application/vnd.jupyter.widget-view+json": {
       "model_id": "fede821431ae436fac65b184d8e60d2b",
       "version_major": 2,
       "version_minor": 0
      },
      "text/plain": [
       "VBox()"
      ]
     },
     "metadata": {},
     "output_type": "display_data"
    },
    {
     "data": {
      "application/vnd.jupyter.widget-view+json": {
       "model_id": "",
       "version_major": 2,
       "version_minor": 0
      },
      "text/plain": [
       "FloatProgress(value=0.0, bar_style='info', description='Progress:', layout=Layout(height='25px', width='50%'),…"
      ]
     },
     "metadata": {},
     "output_type": "display_data"
    }
   ],
   "source": [
    "#################  Analysis 3    ####################\n",
    "\n",
    "# What percent of the incidents has been recorded online"
   ]
  },
  {
   "cell_type": "code",
   "execution_count": 53,
   "id": "bc9c6812",
   "metadata": {},
   "outputs": [
    {
     "data": {
      "application/vnd.jupyter.widget-view+json": {
       "model_id": "6450bf6b6ef94a4aa3d7a2427eed5550",
       "version_major": 2,
       "version_minor": 0
      },
      "text/plain": [
       "VBox()"
      ]
     },
     "metadata": {},
     "output_type": "display_data"
    },
    {
     "data": {
      "application/vnd.jupyter.widget-view+json": {
       "model_id": "",
       "version_major": 2,
       "version_minor": 0
      },
      "text/plain": [
       "FloatProgress(value=0.0, bar_style='info', description='Progress:', layout=Layout(height='25px', width='50%'),…"
      ]
     },
     "metadata": {},
     "output_type": "display_data"
    },
    {
     "name": "stdout",
     "output_type": "stream",
     "text": [
      "+-----------+\n",
      "|File_Online|\n",
      "+-----------+\n",
      "|       true|\n",
      "|       true|\n",
      "|       true|\n",
      "|       true|\n",
      "|       null|\n",
      "|       null|\n",
      "|       null|\n",
      "|       null|\n",
      "|       true|\n",
      "|       null|\n",
      "|       null|\n",
      "|       null|\n",
      "|       true|\n",
      "|       null|\n",
      "|       null|\n",
      "|       null|\n",
      "|       null|\n",
      "|       null|\n",
      "|       null|\n",
      "|       null|\n",
      "+-----------+\n",
      "only showing top 20 rows"
     ]
    }
   ],
   "source": [
    "# file2.select(\"File_Online\").show()\n",
    "spark.sql(\"select File_Online from police_report_data\").show()"
   ]
  },
  {
   "cell_type": "code",
   "execution_count": 54,
   "id": "16f89806",
   "metadata": {},
   "outputs": [
    {
     "data": {
      "application/vnd.jupyter.widget-view+json": {
       "model_id": "5b3cb18e75f54902b6dd6f02f701c11b",
       "version_major": 2,
       "version_minor": 0
      },
      "text/plain": [
       "VBox()"
      ]
     },
     "metadata": {},
     "output_type": "display_data"
    },
    {
     "data": {
      "application/vnd.jupyter.widget-view+json": {
       "model_id": "",
       "version_major": 2,
       "version_minor": 0
      },
      "text/plain": [
       "FloatProgress(value=0.0, bar_style='info', description='Progress:', layout=Layout(height='25px', width='50%'),…"
      ]
     },
     "metadata": {},
     "output_type": "display_data"
    },
    {
     "name": "stdout",
     "output_type": "stream",
     "text": [
      "+-----------------+------------------+\n",
      "|  offline_percent|    online_percent|\n",
      "+-----------------+------------------+\n",
      "|78.68958733218899|21.310412667811008|\n",
      "+-----------------+------------------+"
     ]
    }
   ],
   "source": [
    "#file3 = file2.withColumn(\"File_Online\" ,when(col(\"File_Online\") == True , True).otherwise(False) )\n",
    "#update users set name = '*' where name is null\n",
    "spark.sql(\"select  ((count(*) - count(File_Online))/count(*))*100 as offline_percent  , \\\n",
    "(100 - ((count(*) - count(File_Online))/count(*))*100) as online_percent from police_report_data \").\\\n",
    "show()"
   ]
  },
  {
   "cell_type": "code",
   "execution_count": 55,
   "id": "add5c321",
   "metadata": {},
   "outputs": [
    {
     "data": {
      "application/vnd.jupyter.widget-view+json": {
       "model_id": "06a6f065e159410d9d8c41de9f5313c4",
       "version_major": 2,
       "version_minor": 0
      },
      "text/plain": [
       "VBox()"
      ]
     },
     "metadata": {},
     "output_type": "display_data"
    },
    {
     "data": {
      "application/vnd.jupyter.widget-view+json": {
       "model_id": "",
       "version_major": 2,
       "version_minor": 0
      },
      "text/plain": [
       "FloatProgress(value=0.0, bar_style='info', description='Progress:', layout=Layout(height='25px', width='50%'),…"
      ]
     },
     "metadata": {},
     "output_type": "display_data"
    },
    {
     "name": "stdout",
     "output_type": "stream",
     "text": [
      "+----+-----+------------+\n",
      "|year|month|no_incidents|\n",
      "+----+-----+------------+\n",
      "|2020|    3|        9184|\n",
      "+----+-----+------------+"
     ]
    }
   ],
   "source": [
    "spark.sql(\"select  year(Incident_DateTime) as year , month (Incident_DateTime) as month,  count(*) \\\n",
    "as no_incidents from police_report_data where year(Incident_DateTime)= 2020 and month (Incident_DateTime) = 3 group by year, month \").show()\n",
    "\n",
    "\n"
   ]
  },
  {
   "cell_type": "code",
   "execution_count": null,
   "id": "86de0e18",
   "metadata": {},
   "outputs": [],
   "source": []
  }
 ],
 "metadata": {
  "kernelspec": {
   "display_name": "PySpark",
   "language": "python",
   "name": "pysparkkernel"
  },
  "language_info": {
   "codemirror_mode": {
    "name": "python",
    "version": 3
   },
   "file_extension": ".py",
   "mimetype": "text/x-python",
   "name": "pyspark",
   "pygments_lexer": "python3"
  }
 },
 "nbformat": 4,
 "nbformat_minor": 5
}
